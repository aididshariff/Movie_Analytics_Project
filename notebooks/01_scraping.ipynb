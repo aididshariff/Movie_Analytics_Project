{
 "cells": [
  {
   "cell_type": "code",
   "execution_count": null,
   "id": "a5ee9b46",
   "metadata": {},
   "outputs": [
    {
     "name": "stdout",
     "output_type": "stream",
     "text": [
      "Libraries loaded successfully\n"
     ]
    }
   ],
   "source": [
    "# Import libraries\n",
    "import requests\n",
    "from bs4 import BeautifulSoup\n",
    "import pandas as pd\n",
    "print(\"Libraries loaded successfully\")"
   ]
  },
  {
   "cell_type": "code",
   "execution_count": 11,
   "id": "3e95adeb",
   "metadata": {},
   "outputs": [
    {
     "name": "stdout",
     "output_type": "stream",
     "text": [
      "Top Rated Movies — The Movie Database (TMDB)\n"
     ]
    }
   ],
   "source": [
    "# Step 1: Fetch the page\n",
    "url = \"https://www.themoviedb.org/movie/top-rated\"\n",
    "\n",
    "# Add a User-Agent header to mimic a real browser\n",
    "headers = {\n",
    "    \"User-Agent\": \"Mozilla/5.0 (Windows NT 10.0; Win64; x64) AppleWebKit/537.36 (KHTML, like Gecko) Chrome/58.0.3029.110 Safari/537.3\"\n",
    "}\n",
    "\n",
    "# Make the request with the new headers\n",
    "response = requests.get(url, headers=headers)\n",
    "\n",
    "# Parse with BeautifulSoup\n",
    "soup = BeautifulSoup(response.text, 'html.parser')\n",
    "\n",
    "# Quick check\n",
    "print(soup.title.text)\n"
   ]
  },
  {
   "cell_type": "code",
   "execution_count": 21,
   "id": "8a6b3980",
   "metadata": {},
   "outputs": [
    {
     "data": {
      "text/html": [
       "<div>\n",
       "<style scoped>\n",
       "    .dataframe tbody tr th:only-of-type {\n",
       "        vertical-align: middle;\n",
       "    }\n",
       "\n",
       "    .dataframe tbody tr th {\n",
       "        vertical-align: top;\n",
       "    }\n",
       "\n",
       "    .dataframe thead th {\n",
       "        text-align: right;\n",
       "    }\n",
       "</style>\n",
       "<table border=\"1\" class=\"dataframe\">\n",
       "  <thead>\n",
       "    <tr style=\"text-align: right;\">\n",
       "      <th></th>\n",
       "      <th>title</th>\n",
       "      <th>year</th>\n",
       "    </tr>\n",
       "  </thead>\n",
       "  <tbody>\n",
       "    <tr>\n",
       "      <th>0</th>\n",
       "      <td>The Shawshank Redemption</td>\n",
       "      <td>Sep 23, 1994</td>\n",
       "    </tr>\n",
       "    <tr>\n",
       "      <th>1</th>\n",
       "      <td>The Godfather</td>\n",
       "      <td>Mar 14, 1972</td>\n",
       "    </tr>\n",
       "    <tr>\n",
       "      <th>2</th>\n",
       "      <td>Selena Gomez: My Mind &amp; Me</td>\n",
       "      <td>Nov 04, 2022</td>\n",
       "    </tr>\n",
       "    <tr>\n",
       "      <th>3</th>\n",
       "      <td>The Godfather Part II</td>\n",
       "      <td>Dec 20, 1974</td>\n",
       "    </tr>\n",
       "    <tr>\n",
       "      <th>4</th>\n",
       "      <td>Schindler's List</td>\n",
       "      <td>Dec 15, 1993</td>\n",
       "    </tr>\n",
       "  </tbody>\n",
       "</table>\n",
       "</div>"
      ],
      "text/plain": [
       "                        title          year\n",
       "0    The Shawshank Redemption  Sep 23, 1994\n",
       "1               The Godfather  Mar 14, 1972\n",
       "2  Selena Gomez: My Mind & Me  Nov 04, 2022\n",
       "3       The Godfather Part II  Dec 20, 1974\n",
       "4            Schindler's List  Dec 15, 1993"
      ]
     },
     "execution_count": 21,
     "metadata": {},
     "output_type": "execute_result"
    }
   ],
   "source": [
    "# Extracting titles and years\n",
    "movies = []\n",
    "for movie in soup.select(\"div.card.style_1\"):\n",
    "\n",
    "    # Check for title element first\n",
    "    title_element = movie.select_one(\"h2 a\")\n",
    "    if title_element:\n",
    "        title = title_element.text\n",
    "    else:\n",
    "        title = None\n",
    "\n",
    "    # Check for year element\n",
    "    year_element = movie.select_one(\"p\")\n",
    "    if year_element:\n",
    "        year = year_element.text\n",
    "    else:\n",
    "        year = None\n",
    "\n",
    "    # Only append the data if at least a title was found\n",
    "    if title:\n",
    "        movies.append({\"title\": title, \"year\": year})\n",
    "\n",
    "df = pd.DataFrame(movies)\n",
    "df.head()"
   ]
  },
  {
   "cell_type": "code",
   "execution_count": 25,
   "id": "c038dbff",
   "metadata": {},
   "outputs": [],
   "source": [
    "# Save preliminary DataFrame\n",
    "df.to_csv(\"../data/raw/top_movies.csv\", index=False)"
   ]
  },
  {
   "cell_type": "code",
   "execution_count": null,
   "id": "46e88e01",
   "metadata": {},
   "outputs": [],
   "source": []
  }
 ],
 "metadata": {
  "kernelspec": {
   "display_name": ".venv",
   "language": "python",
   "name": "python3"
  },
  "language_info": {
   "codemirror_mode": {
    "name": "ipython",
    "version": 3
   },
   "file_extension": ".py",
   "mimetype": "text/x-python",
   "name": "python",
   "nbconvert_exporter": "python",
   "pygments_lexer": "ipython3",
   "version": "3.11.9"
  }
 },
 "nbformat": 4,
 "nbformat_minor": 5
}
